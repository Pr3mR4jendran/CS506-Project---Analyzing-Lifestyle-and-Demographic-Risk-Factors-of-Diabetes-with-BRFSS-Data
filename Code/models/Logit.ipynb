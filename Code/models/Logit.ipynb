{
 "cells": [
  {
   "cell_type": "code",
   "execution_count": 19,
   "id": "5a8a17a5",
   "metadata": {},
   "outputs": [],
   "source": [
    "import time\n",
    "import numpy as np\n",
    "import pandas as pd\n",
    "from sklearn.model_selection import train_test_split\n",
    "from sklearn.preprocessing import StandardScaler\n",
    "from sklearn.pipeline import Pipeline\n",
    "from sklearn.linear_model import LogisticRegression\n",
    "from sklearn.metrics import (\n",
    "    accuracy_score, precision_score, recall_score, f1_score,\n",
    "    classification_report, confusion_matrix\n",
    ")"
   ]
  },
  {
   "cell_type": "code",
   "execution_count": 20,
   "id": "c719d280",
   "metadata": {},
   "outputs": [],
   "source": [
    "data = pd.read_csv(\"../../Results/BRFSS_2024_model_ready.csv\", low_memory=False)\n",
    "X = data.drop('DIABETE4', axis=1)\n",
    "y = data['DIABETE4'].astype(int)"
   ]
  },
  {
   "cell_type": "code",
   "execution_count": 21,
   "id": "196a53f4",
   "metadata": {},
   "outputs": [],
   "source": [
    "X_train, X_test, y_train, y_test = train_test_split(\n",
    "    X, y, test_size=0.2, random_state=42, stratify=y\n",
    ")"
   ]
  },
  {
   "cell_type": "code",
   "execution_count": 22,
   "id": "0dedac99",
   "metadata": {},
   "outputs": [],
   "source": [
    "X_train = X_train.astype(\"float32\")\n",
    "X_test  = X_test.astype(\"float32\")"
   ]
  },
  {
   "cell_type": "code",
   "execution_count": 23,
   "id": "cc37a70c",
   "metadata": {},
   "outputs": [],
   "source": [
    "t0 = time.time()\n",
    "pipe_bal = Pipeline([\n",
    "    (\"scaler\", StandardScaler()),     \n",
    "    (\"lr\", LogisticRegression(\n",
    "        solver=\"lbfgs\",               \n",
    "        class_weight=\"balanced\",      \n",
    "        C=0.7,                       \n",
    "        max_iter=400                  \n",
    "    ))\n",
    "])"
   ]
  },
  {
   "cell_type": "code",
   "execution_count": 24,
   "id": "0ee97421",
   "metadata": {},
   "outputs": [
    {
     "name": "stdout",
     "output_type": "stream",
     "text": [
      "Balanced train time: 21.1s\n"
     ]
    }
   ],
   "source": [
    "\n",
    "pipe_bal.fit(X_train, y_train)\n",
    "print(f\"Balanced train time: {time.time()-t0:.1f}s\")"
   ]
  },
  {
   "cell_type": "code",
   "execution_count": 25,
   "id": "ee8b94db",
   "metadata": {},
   "outputs": [],
   "source": [
    "y_pred_bal = pipe_bal.predict(X_test)\n"
   ]
  },
  {
   "cell_type": "code",
   "execution_count": 26,
   "id": "05053d97",
   "metadata": {},
   "outputs": [],
   "source": [
    "acc_b  = accuracy_score(y_test, y_pred_bal)\n",
    "prec_b = precision_score(y_test, y_pred_bal, average=\"macro\", zero_division=0)\n",
    "rec_b  = recall_score(y_test, y_pred_bal, average=\"macro\", zero_division=0)\n",
    "f1_b   = f1_score(y_test, y_pred_bal, average=\"macro\", zero_division=0)"
   ]
  },
  {
   "cell_type": "code",
   "execution_count": 27,
   "id": "0f4b56bc",
   "metadata": {},
   "outputs": [
    {
     "name": "stdout",
     "output_type": "stream",
     "text": [
      "Accuracy:           0.6261\n",
      "Precision (macro):  0.4442\n",
      "Recall (macro):     0.5389\n",
      "F1 Score (macro):   0.4277\n",
      "\n",
      "Classification Report:\n",
      "               precision    recall  f1-score   support\n",
      "\n",
      "           1       0.34      0.58      0.43     13162\n",
      "           3       0.94      0.64      0.76     75226\n",
      "           4       0.05      0.40      0.09      2261\n",
      "\n",
      "    accuracy                           0.63     90649\n",
      "   macro avg       0.44      0.54      0.43     90649\n",
      "weighted avg       0.83      0.63      0.70     90649\n",
      "\n",
      "\n",
      "Confusion Matrix:\n",
      " [[ 7633  2340  3189]\n",
      " [14253 48223 12750]\n",
      " [  758   608   895]]\n"
     ]
    }
   ],
   "source": [
    "print(f\"Accuracy:           {acc_b:.4f}\")\n",
    "print(f\"Precision (macro):  {prec_b:.4f}\")\n",
    "print(f\"Recall (macro):     {rec_b:.4f}\")\n",
    "print(f\"F1 Score (macro):   {f1_b:.4f}\")\n",
    "\n",
    "print(\"\\nClassification Report:\\n\", classification_report(y_test, y_pred_bal, zero_division=0))\n",
    "print(\"\\nConfusion Matrix:\\n\", confusion_matrix(y_test, y_pred_bal))"
   ]
  }
 ],
 "metadata": {
  "kernelspec": {
   "display_name": ".venv",
   "language": "python",
   "name": "python3"
  },
  "language_info": {
   "codemirror_mode": {
    "name": "ipython",
    "version": 3
   },
   "file_extension": ".py",
   "mimetype": "text/x-python",
   "name": "python",
   "nbconvert_exporter": "python",
   "pygments_lexer": "ipython3",
   "version": "3.14.0"
  }
 },
 "nbformat": 4,
 "nbformat_minor": 5
}
