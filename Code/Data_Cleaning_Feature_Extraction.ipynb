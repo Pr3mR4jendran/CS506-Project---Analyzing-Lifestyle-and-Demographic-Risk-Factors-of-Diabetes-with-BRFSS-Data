{
 "cells": [
  {
   "cell_type": "code",
   "execution_count": 1,
   "id": "66b9269e",
   "metadata": {},
   "outputs": [],
   "source": [
    "import re\n",
    "import numpy as np\n",
    "import pandas as pd\n",
    "import matplotlib.pyplot as plt\n",
    "\n",
    "from scipy import stats\n",
    "from sklearn.model_selection import train_test_split\n",
    "from sklearn.preprocessing import OneHotEncoder, OrdinalEncoder, StandardScaler\n",
    "from sklearn.compose import ColumnTransformer\n",
    "from sklearn.pipeline import Pipeline\n",
    "from sklearn.impute import SimpleImputer\n",
    "from sklearn.linear_model import LogisticRegression\n",
    "\n",
    "CSV_PATH = \"../Data/BRFSS_2024.csv\"\n",
    "TARGET = \"DIABETE4\"\n",
    "VALID_TARGET_CLASSES = {1, 3, 4}\n",
    "\n",
    "# Hyperparameters for tuning\n",
    "mrt = 0.30      # Missing Rate Threshold\n",
    "tau = 0.6       # Statistical importance threshold\n",
    "n = 50          # Fallback: minimum number of features to retain\n",
    "C = 0.2         # L1 regularization strength"
   ]
  },
  {
   "cell_type": "markdown",
   "id": "ac65a257",
   "metadata": {},
   "source": [
    "## Data Cleaning and Feature Extraction"
   ]
  },
  {
   "cell_type": "code",
   "execution_count": 2,
   "id": "7465eaf3",
   "metadata": {},
   "outputs": [
    {
     "name": "stdout",
     "output_type": "stream",
     "text": [
      "(453241, 301) after target filtering (keep 1/3/4; drop 2/7/9/NA)\n"
     ]
    },
    {
     "data": {
      "text/plain": [
       "DIABETE4\n",
       "1.0     65809\n",
       "3.0    376125\n",
       "4.0     11307\n",
       "Name: count, dtype: int64"
      ]
     },
     "execution_count": 2,
     "metadata": {},
     "output_type": "execute_result"
    }
   ],
   "source": [
    "def load_brfss(csv_path: str) -> pd.DataFrame:\n",
    "    df = pd.read_csv(csv_path, low_memory=False)\n",
    "    df.columns = [c.strip().upper() for c in df.columns]\n",
    "    return df\n",
    "\n",
    "df = load_brfss(CSV_PATH)\n",
    "\n",
    "if TARGET not in df.columns:\n",
    "    raise KeyError(f\"Target column {TARGET} not found in dataset.\")\n",
    "\n",
    "df[TARGET] = pd.to_numeric(df[TARGET], errors=\"coerce\")\n",
    "df = df[df[TARGET].isin(VALID_TARGET_CLASSES)].copy()\n",
    "df.dropna(subset=[TARGET], inplace=True)\n",
    "\n",
    "print(df.shape, \"after target filtering (keep 1/3/4; drop 2/7/9/NA)\")\n",
    "df[TARGET].value_counts(dropna=False).sort_index()"
   ]
  },
  {
   "cell_type": "code",
   "execution_count": 3,
   "id": "10271ea7",
   "metadata": {},
   "outputs": [
    {
     "name": "stdout",
     "output_type": "stream",
     "text": [
      "Keeping 122 / 300 columns (≤ 30% missing)\n"
     ]
    }
   ],
   "source": [
    "SENTINEL_PATTERNS = [\n",
    "    re.compile(r\"^7+$\"),\n",
    "    re.compile(r\"^9+$\"),\n",
    "]\n",
    "\n",
    "def is_sentinel(x) -> bool:\n",
    "    if pd.isna(x): \n",
    "        return True\n",
    "    s = str(x).strip().lower()\n",
    "    if s in {\"\", \"nan\", \"none\", \"refused\", \"don’t know\", \"don't know\"}:\n",
    "        return True\n",
    "    return any(p.fullmatch(s) for p in SENTINEL_PATTERNS)\n",
    "\n",
    "def effective_missing_rate(series: pd.Series) -> float:\n",
    "    return series.map(is_sentinel).mean()\n",
    "\n",
    "missing_rates = df.drop(columns=[TARGET]).apply(effective_missing_rate)\n",
    "to_keep = missing_rates[missing_rates <= mrt].index.tolist()\n",
    "\n",
    "print(f\"Keeping {len(to_keep)} / {len(df.columns)-1} columns (≤ {int(mrt*100)}% missing)\")"
   ]
  },
  {
   "cell_type": "code",
   "execution_count": 4,
   "id": "eee971c3",
   "metadata": {},
   "outputs": [
    {
     "name": "stdout",
     "output_type": "stream",
     "text": [
      "Categorical: 96, Continuous: 26\n"
     ]
    }
   ],
   "source": [
    "for col in to_keep:\n",
    "    df[col] = df[col].where(~df[col].map(is_sentinel), np.nan)\n",
    "    df[col] = pd.to_numeric(df[col])\n",
    "\n",
    "categorical_cols, continuous_cols = [], []\n",
    "for col in to_keep:\n",
    "    nunique = df[col].nunique(dropna=True)\n",
    "    if pd.api.types.is_numeric_dtype(df[col]):\n",
    "        if nunique <= 15:\n",
    "            categorical_cols.append(col)\n",
    "        else:\n",
    "            continuous_cols.append(col)\n",
    "    else:\n",
    "        categorical_cols.append(col)\n",
    "\n",
    "print(f\"Categorical: {len(categorical_cols)}, Continuous: {len(continuous_cols)}\")"
   ]
  },
  {
   "cell_type": "code",
   "execution_count": 5,
   "id": "4774312e",
   "metadata": {},
   "outputs": [
    {
     "name": "stdout",
     "output_type": "stream",
     "text": [
      "Top 20 variables by p-value:\n"
     ]
    },
    {
     "data": {
      "text/html": [
       "<div>\n",
       "<style scoped>\n",
       "    .dataframe tbody tr th:only-of-type {\n",
       "        vertical-align: middle;\n",
       "    }\n",
       "\n",
       "    .dataframe tbody tr th {\n",
       "        vertical-align: top;\n",
       "    }\n",
       "\n",
       "    .dataframe thead th {\n",
       "        text-align: right;\n",
       "    }\n",
       "</style>\n",
       "<table border=\"1\" class=\"dataframe\">\n",
       "  <thead>\n",
       "    <tr style=\"text-align: right;\">\n",
       "      <th></th>\n",
       "      <th>feature</th>\n",
       "      <th>p_value</th>\n",
       "      <th>test</th>\n",
       "    </tr>\n",
       "  </thead>\n",
       "  <tbody>\n",
       "    <tr>\n",
       "      <th>13</th>\n",
       "      <td>CHECKUP1</td>\n",
       "      <td>0.0</td>\n",
       "      <td>chi2</td>\n",
       "    </tr>\n",
       "    <tr>\n",
       "      <th>11</th>\n",
       "      <td>PERSDOC3</td>\n",
       "      <td>0.0</td>\n",
       "      <td>chi2</td>\n",
       "    </tr>\n",
       "    <tr>\n",
       "      <th>14</th>\n",
       "      <td>EXERANY2</td>\n",
       "      <td>0.0</td>\n",
       "      <td>chi2</td>\n",
       "    </tr>\n",
       "    <tr>\n",
       "      <th>15</th>\n",
       "      <td>LASTDEN4</td>\n",
       "      <td>0.0</td>\n",
       "      <td>chi2</td>\n",
       "    </tr>\n",
       "    <tr>\n",
       "      <th>10</th>\n",
       "      <td>PRIMINS2</td>\n",
       "      <td>0.0</td>\n",
       "      <td>chi2</td>\n",
       "    </tr>\n",
       "    <tr>\n",
       "      <th>9</th>\n",
       "      <td>GENHLTH</td>\n",
       "      <td>0.0</td>\n",
       "      <td>chi2</td>\n",
       "    </tr>\n",
       "    <tr>\n",
       "      <th>28</th>\n",
       "      <td>EDUCA</td>\n",
       "      <td>0.0</td>\n",
       "      <td>chi2</td>\n",
       "    </tr>\n",
       "    <tr>\n",
       "      <th>31</th>\n",
       "      <td>VETERAN3</td>\n",
       "      <td>0.0</td>\n",
       "      <td>chi2</td>\n",
       "    </tr>\n",
       "    <tr>\n",
       "      <th>25</th>\n",
       "      <td>CHCKDNY2</td>\n",
       "      <td>0.0</td>\n",
       "      <td>chi2</td>\n",
       "    </tr>\n",
       "    <tr>\n",
       "      <th>26</th>\n",
       "      <td>HAVARTH4</td>\n",
       "      <td>0.0</td>\n",
       "      <td>chi2</td>\n",
       "    </tr>\n",
       "    <tr>\n",
       "      <th>22</th>\n",
       "      <td>CHCOCNC1</td>\n",
       "      <td>0.0</td>\n",
       "      <td>chi2</td>\n",
       "    </tr>\n",
       "    <tr>\n",
       "      <th>23</th>\n",
       "      <td>CHCCOPD3</td>\n",
       "      <td>0.0</td>\n",
       "      <td>chi2</td>\n",
       "    </tr>\n",
       "    <tr>\n",
       "      <th>19</th>\n",
       "      <td>CVDSTRK3</td>\n",
       "      <td>0.0</td>\n",
       "      <td>chi2</td>\n",
       "    </tr>\n",
       "    <tr>\n",
       "      <th>18</th>\n",
       "      <td>CVDCRHD4</td>\n",
       "      <td>0.0</td>\n",
       "      <td>chi2</td>\n",
       "    </tr>\n",
       "    <tr>\n",
       "      <th>17</th>\n",
       "      <td>CVDINFR4</td>\n",
       "      <td>0.0</td>\n",
       "      <td>chi2</td>\n",
       "    </tr>\n",
       "    <tr>\n",
       "      <th>16</th>\n",
       "      <td>RMVTETH4</td>\n",
       "      <td>0.0</td>\n",
       "      <td>chi2</td>\n",
       "    </tr>\n",
       "    <tr>\n",
       "      <th>27</th>\n",
       "      <td>MARITAL</td>\n",
       "      <td>0.0</td>\n",
       "      <td>chi2</td>\n",
       "    </tr>\n",
       "    <tr>\n",
       "      <th>54</th>\n",
       "      <td>_CHISPNC</td>\n",
       "      <td>0.0</td>\n",
       "      <td>chi2</td>\n",
       "    </tr>\n",
       "    <tr>\n",
       "      <th>53</th>\n",
       "      <td>_IMPRACE</td>\n",
       "      <td>0.0</td>\n",
       "      <td>chi2</td>\n",
       "    </tr>\n",
       "    <tr>\n",
       "      <th>52</th>\n",
       "      <td>_RAWRAKE</td>\n",
       "      <td>0.0</td>\n",
       "      <td>chi2</td>\n",
       "    </tr>\n",
       "  </tbody>\n",
       "</table>\n",
       "</div>"
      ],
      "text/plain": [
       "     feature  p_value  test\n",
       "13  CHECKUP1      0.0  chi2\n",
       "11  PERSDOC3      0.0  chi2\n",
       "14  EXERANY2      0.0  chi2\n",
       "15  LASTDEN4      0.0  chi2\n",
       "10  PRIMINS2      0.0  chi2\n",
       "9    GENHLTH      0.0  chi2\n",
       "28     EDUCA      0.0  chi2\n",
       "31  VETERAN3      0.0  chi2\n",
       "25  CHCKDNY2      0.0  chi2\n",
       "26  HAVARTH4      0.0  chi2\n",
       "22  CHCOCNC1      0.0  chi2\n",
       "23  CHCCOPD3      0.0  chi2\n",
       "19  CVDSTRK3      0.0  chi2\n",
       "18  CVDCRHD4      0.0  chi2\n",
       "17  CVDINFR4      0.0  chi2\n",
       "16  RMVTETH4      0.0  chi2\n",
       "27   MARITAL      0.0  chi2\n",
       "54  _CHISPNC      0.0  chi2\n",
       "53  _IMPRACE      0.0  chi2\n",
       "52  _RAWRAKE      0.0  chi2"
      ]
     },
     "metadata": {},
     "output_type": "display_data"
    }
   ],
   "source": [
    "y = df[TARGET].astype(int)\n",
    "cat_results, cont_results = [], []\n",
    "\n",
    "for col in categorical_cols:\n",
    "    sub = df[[col, TARGET]].dropna()\n",
    "    if sub.empty:\n",
    "        continue\n",
    "    tbl = pd.crosstab(sub[col], sub[TARGET])\n",
    "    if tbl.shape[0] < 2 or tbl.shape[1] < 2:\n",
    "        continue\n",
    "    try:\n",
    "        chi2_stat, p, dof, exp = stats.chi2_contingency(tbl, correction=False)\n",
    "        cat_results.append({\"feature\": col, \"p_value\": p, \"test\": \"chi2\"})\n",
    "    except Exception:\n",
    "        pass\n",
    "\n",
    "for col in continuous_cols:\n",
    "    sub = df[[col, TARGET]].dropna()\n",
    "    if sub.empty:\n",
    "        continue\n",
    "    groups = [sub.loc[sub[TARGET]==cls, col] for cls in sorted(VALID_TARGET_CLASSES)]\n",
    "    try:\n",
    "        fstat, p = stats.f_oneway(*groups)\n",
    "        cont_results.append({\"feature\": col, \"p_value\": p, \"test\": \"anova\"})\n",
    "    except Exception:\n",
    "        try:\n",
    "            stat, p = stats.kruskal(*groups, nan_policy=\"omit\")\n",
    "            cont_results.append({\"feature\": col, \"p_value\": p, \"test\": \"kruskal\"})\n",
    "        except Exception:\n",
    "            pass\n",
    "\n",
    "all_results = pd.concat([pd.DataFrame(cat_results), pd.DataFrame(cont_results)], ignore_index=True)\n",
    "all_results.dropna(inplace=True)\n",
    "all_results.sort_values(\"p_value\", inplace=True)\n",
    "\n",
    "print(\"Top 20 variables by p-value:\")\n",
    "display(all_results.head(20))"
   ]
  },
  {
   "cell_type": "code",
   "execution_count": 6,
   "id": "34a9d9e8",
   "metadata": {},
   "outputs": [
    {
     "name": "stdout",
     "output_type": "stream",
     "text": [
      "Selected 78 features with importance_norm ≥ 0.60\n",
      "Top few selected features: ['CHECKUP1', 'PERSDOC3', 'EXERANY2', 'LASTDEN4', 'PRIMINS2', 'GENHLTH', 'EDUCA', 'VETERAN3', 'CHCKDNY2', 'HAVARTH4']\n",
      "Final shape: (453241, 79)\n"
     ]
    },
    {
     "data": {
      "image/png": "[encoded data removed]",
      "text/plain": [
       "<Figure size 800x400 with 1 Axes>"
      ]
     },
     "metadata": {},
     "output_type": "display_data"
    }
   ],
   "source": [
    "all_results[\"importance_score\"] = -np.log10(all_results[\"p_value\"].clip(lower=1e-300))\n",
    "\n",
    "all_results[\"importance_norm\"] = (\n",
    "    all_results[\"importance_score\"] - all_results[\"importance_score\"].min()\n",
    ") / (all_results[\"importance_score\"].max() - all_results[\"importance_score\"].min())\n",
    "\n",
    "selected_by_tau = all_results[all_results[\"importance_norm\"] >= tau][\"feature\"].tolist()\n",
    "\n",
    "if len(selected_by_tau) < n:\n",
    "    selected_by_tau = all_results.head(n)[\"feature\"].tolist()\n",
    "\n",
    "print(f\"Selected {len(selected_by_tau)} features with importance_norm ≥ {tau:.2f}\")\n",
    "print(\"Top few selected features:\", selected_by_tau[:10])\n",
    "\n",
    "final_features = selected_by_tau + [TARGET]\n",
    "df_cleaned = df[final_features].copy()\n",
    "\n",
    "print(\"Final shape:\", df_cleaned.shape)\n",
    "\n",
    "import matplotlib.pyplot as plt\n",
    "\n",
    "plt.figure(figsize=(8, 4))\n",
    "plt.hist(all_results[\"importance_norm\"], bins=50, color=\"skyblue\", edgecolor=\"black\")\n",
    "plt.axvline(tau, color=\"red\", linestyle=\"--\", label=f\"τ = {tau}\")\n",
    "plt.xlabel(\"Normalized Importance Score\")\n",
    "plt.ylabel(\"Number of Features\")\n",
    "plt.title(\"Feature Importance Distribution\")\n",
    "plt.legend()\n",
    "plt.show()"
   ]
  },
  {
   "cell_type": "code",
   "execution_count": 7,
   "id": "96c445b9",
   "metadata": {},
   "outputs": [],
   "source": [
    "viz_path = \"../Results/BRFSS_2024_visualization.csv\"\n",
    "df_cleaned.to_csv(viz_path, index=False)"
   ]
  },
  {
   "cell_type": "markdown",
   "id": "80321610",
   "metadata": {},
   "source": [
    "## Feature Encoding"
   ]
  },
  {
   "cell_type": "code",
   "execution_count": 7,
   "id": "180204d7",
   "metadata": {},
   "outputs": [],
   "source": [
    "def detect_feature_types(df: pd.DataFrame, target: str = \"DIABETE4\") -> tuple[list, list, list]:\n",
    "    codebook_ordinals = {\n",
    "        \"GENHLTH\", \"EDUCA\", \"_EDUCAG\", \"INCOME3\", \"_INCOMG1\",\n",
    "        \"_BMI5CAT\", \"SLEPTIM1\", \"AGE5YR\", \"_AGEG5YR\", \"_AGE80\",\n",
    "        \"_AGE65YR\", \"_AGE_G\", \"CHECKUP1\", \"POORHLTH\",\n",
    "        \"PHYSHLTH\", \"MENTHLTH\", \"EMPLOY1\", \"MARITAL\", \"RENTHOM1\"\n",
    "    }\n",
    "\n",
    "    dynamic_ordinals = []\n",
    "    categorical_cols = []\n",
    "    continuous_cols = []\n",
    "\n",
    "    for col in df.columns:\n",
    "        if col == target:\n",
    "            continue\n",
    "\n",
    "        series = df[col]\n",
    "        if not pd.api.types.is_numeric_dtype(series):\n",
    "            categorical_cols.append(col)\n",
    "            continue\n",
    "\n",
    "        nunique = series.nunique(dropna=True)\n",
    "        if nunique < 2:\n",
    "            continue\n",
    "\n",
    "        unique_vals = np.sort(series.dropna().unique())\n",
    "\n",
    "        if (\n",
    "            2 <= nunique <= 15\n",
    "            and np.issubdtype(series.dtype, np.number)\n",
    "            and np.all(np.mod(unique_vals, 1) == 0)\n",
    "        ):\n",
    "            minv, maxv = int(unique_vals.min()), int(unique_vals.max())\n",
    "            contiguous = set(range(minv, maxv + 1))\n",
    "            actual = set(unique_vals.astype(int))\n",
    "            if len(contiguous - actual) <= 2:\n",
    "                dynamic_ordinals.append(col)\n",
    "            else:\n",
    "                categorical_cols.append(col)\n",
    "        elif nunique <= 15:\n",
    "            categorical_cols.append(col)\n",
    "        else:\n",
    "            continuous_cols.append(col)\n",
    "\n",
    "    ordinal_cols = sorted(set(codebook_ordinals).union(dynamic_ordinals).intersection(df.columns))\n",
    "    categorical_cols = [c for c in categorical_cols if c not in ordinal_cols]\n",
    "    continuous_cols = [c for c in continuous_cols if c not in ordinal_cols]\n",
    "\n",
    "    print(\n",
    "        f\"Detected {len(ordinal_cols)} ordinal, \"\n",
    "        f\"{len(categorical_cols)} categorical, \"\n",
    "        f\"{len(continuous_cols)} continuous columns.\"\n",
    "    )\n",
    "    return ordinal_cols, categorical_cols, continuous_cols\n"
   ]
  },
  {
   "cell_type": "code",
   "execution_count": 8,
   "id": "0f9e0f72",
   "metadata": {},
   "outputs": [
    {
     "name": "stdout",
     "output_type": "stream",
     "text": [
      "Detected 40 ordinal, 31 categorical, 7 continuous columns.\n"
     ]
    }
   ],
   "source": [
    "ordinal_cols, categorical_cols, continuous_cols = detect_feature_types(df_cleaned, target=TARGET)"
   ]
  },
  {
   "cell_type": "code",
   "execution_count": 9,
   "id": "82e01643",
   "metadata": {},
   "outputs": [
    {
     "name": "stdout",
     "output_type": "stream",
     "text": [
      "Encoding 40 ordinal, 31 categorical, 7 continuous columns\n",
      "Encoded dataset shape: (453241, 201)\n"
     ]
    }
   ],
   "source": [
    "ordinal_categories = []\n",
    "for col in ordinal_cols:\n",
    "    cats = sorted(df_cleaned[col].dropna().unique())\n",
    "    ordinal_categories.append(cats)\n",
    "\n",
    "print(f\"Encoding {len(ordinal_cols)} ordinal, {len(categorical_cols)} categorical, {len(continuous_cols)} continuous columns\")\n",
    "\n",
    "preprocess = ColumnTransformer(\n",
    "    transformers=[\n",
    "        (\"ord\", Pipeline(steps=[\n",
    "            (\"imp\", SimpleImputer(strategy=\"most_frequent\")),\n",
    "            (\"ordenc\", OrdinalEncoder(\n",
    "                categories=ordinal_categories,\n",
    "                handle_unknown=\"use_encoded_value\",\n",
    "                unknown_value=-1\n",
    "            ))\n",
    "        ]), ordinal_cols),\n",
    "\n",
    "        (\"cat\", Pipeline(steps=[\n",
    "            (\"imp\", SimpleImputer(strategy=\"most_frequent\")),\n",
    "            (\"ohe\", OneHotEncoder(handle_unknown=\"ignore\", sparse_output=False))\n",
    "        ]), categorical_cols),\n",
    "\n",
    "        (\"num\", Pipeline(steps=[\n",
    "            (\"imp\", SimpleImputer(strategy=\"median\")),\n",
    "            (\"scaler\", StandardScaler())\n",
    "        ]), continuous_cols)\n",
    "    ],\n",
    "    remainder=\"drop\",\n",
    "    verbose_feature_names_out=False\n",
    ")\n",
    "\n",
    "X = df_cleaned.drop(columns=[TARGET])\n",
    "y = df_cleaned[TARGET].astype(int)\n",
    "\n",
    "X_proc = preprocess.fit_transform(X)\n",
    "feature_names = preprocess.get_feature_names_out()\n",
    "\n",
    "df_encoded = pd.DataFrame(X_proc, columns=feature_names)\n",
    "df_encoded[TARGET] = y.values\n",
    "\n",
    "print(\"Encoded dataset shape:\", df_encoded.shape)"
   ]
  },
  {
   "cell_type": "markdown",
   "id": "22bcf36e",
   "metadata": {},
   "source": [
    "## L1 Regularization"
   ]
  },
  {
   "cell_type": "code",
   "execution_count": 10,
   "id": "0d2efd0e",
   "metadata": {},
   "outputs": [
    {
     "name": "stdout",
     "output_type": "stream",
     "text": [
      "Running L1-regularized Logistic Regression...\n",
      "\n",
      "C=0.2000 | Val Acc=0.8360 | Features Kept=266\n"
     ]
    }
   ],
   "source": [
    "from sklearn.linear_model import LogisticRegression\n",
    "from sklearn.model_selection import train_test_split\n",
    "\n",
    "X = df_encoded.drop(columns=[TARGET])\n",
    "y = df_encoded[TARGET]\n",
    "\n",
    "X_train, X_val, y_train, y_val = train_test_split(X, y, test_size=0.2, random_state=42, stratify=y)\n",
    "\n",
    "nonzero_counts = []\n",
    "val_scores = []\n",
    "\n",
    "print(\"Running L1-regularized Logistic Regression...\\n\")\n",
    "\n",
    "model = LogisticRegression(\n",
    "    penalty='l1',\n",
    "    solver='saga',\n",
    "    C=C,\n",
    "    max_iter=5000,\n",
    "    random_state=42,\n",
    "    n_jobs=-1\n",
    ")\n",
    "model.fit(X_train, y_train)\n",
    "score = model.score(X_val, y_val)\n",
    "val_scores.append(score)\n",
    "\n",
    "n_nonzero = np.sum(model.coef_ != 0)\n",
    "nonzero_counts.append(n_nonzero)\n",
    "print(f\"C={C:.4f} | Val Acc={score:.4f} | Features Kept={n_nonzero}\")"
   ]
  },
  {
   "cell_type": "code",
   "execution_count": 11,
   "id": "686ed320",
   "metadata": {},
   "outputs": [
    {
     "name": "stdout",
     "output_type": "stream",
     "text": [
      "Selected 162 encoded features.\n"
     ]
    }
   ],
   "source": [
    "coef_mask = np.any(model.coef_ != 0, axis=0)\n",
    "selected_features = X.columns[coef_mask]\n",
    "\n",
    "print(f\"Selected {len(selected_features)} encoded features.\")\n",
    "\n",
    "final_cols = selected_features.tolist() + [TARGET]\n",
    "df_final_encoded = df_encoded[final_cols].copy()\n",
    "\n",
    "out_path = \"../Results/BRFSS_2024_model_ready.csv\"\n",
    "df_final_encoded.to_csv(out_path, index=False)"
   ]
  },
  {
   "cell_type": "code",
   "execution_count": null,
   "id": "5b6e645a",
   "metadata": {},
   "outputs": [],
   "source": []
  },
  {
   "cell_type": "code",
   "execution_count": null,
   "id": "6a3b33c8",
   "metadata": {},
   "outputs": [],
   "source": []
  }
 ],
 "metadata": {
  "kernelspec": {
   "display_name": "Python 3",
   "language": "python",
   "name": "python3"
  },
  "language_info": {
   "codemirror_mode": {
    "name": "ipython",
    "version": 3
   },
   "file_extension": ".py",
   "mimetype": "text/x-python",
   "name": "python",
   "nbconvert_exporter": "python",
   "pygments_lexer": "ipython3",
   "version": "3.13.9"
  }
 },
 "nbformat": 4,
 "nbformat_minor": 5
}
